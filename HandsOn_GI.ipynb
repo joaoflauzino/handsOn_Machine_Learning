{
  "nbformat": 4,
  "nbformat_minor": 0,
  "metadata": {
    "colab": {
      "name": "HandsOn-GI.ipynb",
      "provenance": [],
      "collapsed_sections": [],
      "include_colab_link": true
    },
    "kernelspec": {
      "name": "python3",
      "display_name": "Python 3"
    }
  },
  "cells": [
    {
      "cell_type": "markdown",
      "metadata": {
        "id": "view-in-github",
        "colab_type": "text"
      },
      "source": [
        "<a href=\"https://colab.research.google.com/github/joaoflauzino/handsOn_Machine_Learning/blob/main/HandsOn_GI.ipynb\" target=\"_parent\"><img src=\"https://colab.research.google.com/assets/colab-badge.svg\" alt=\"Open In Colab\"/></a>"
      ]
    },
    {
      "cell_type": "code",
      "metadata": {
        "id": "LS1eXy8H3BVo",
        "colab": {
          "base_uri": "https://localhost:8080/"
        },
        "outputId": "5388724d-a2d8-4414-d270-1ba3fdf3f4b1"
      },
      "source": [
        "# Manipulação de dados\n",
        "import pandas as pd\n",
        "import numpy as np \n",
        "\n",
        "# Arquivos\n",
        "from google.colab import files\n",
        "from google.colab import drive\n",
        "\n",
        "# Modelos\n",
        "from sklearn.ensemble import RandomForestRegressor\n",
        "from sklearn import tree\n",
        "from sklearn import linear_model \n",
        "import sklearn\n",
        "\n",
        "# Pipeline\n",
        "from sklearn.pipeline import Pipeline, FeatureUnion, make_pipeline, make_union\n",
        "from sklearn.preprocessing import FunctionTransformer\n",
        "from sklearn.compose import ColumnTransformer\n",
        "from imblearn.pipeline import Pipeline as pipe_imb \n",
        "\n",
        "\n",
        "# Pré-Processamento\n",
        "from imblearn.under_sampling import RandomUnderSampler\n",
        "from sklearn.preprocessing import MinMaxScaler\n",
        "from sklearn.preprocessing import LabelEncoder\n",
        "from sklearn import preprocessing\n",
        "from sklearn.model_selection import train_test_split \n",
        "from imblearn.over_sampling import SMOTE \n",
        "from sklearn.preprocessing import OneHotEncoder\n",
        "from sklearn.model_selection import train_test_split\n",
        "\n",
        "# Avaliação\n",
        "from sklearn.metrics import accuracy_score\n",
        "from sklearn.metrics import roc_auc_score\n",
        "from sklearn.metrics import precision_score\n",
        "from sklearn.metrics import recall_score\n",
        "from sklearn.metrics import f1_score\n",
        "from sklearn.metrics import confusion_matrix\n",
        "\n",
        "# Visualização de dados\n",
        "import seaborn as sns \n",
        "import matplotlib.pyplot as plt\n"
      ],
      "execution_count": null,
      "outputs": [
        {
          "output_type": "stream",
          "name": "stderr",
          "text": [
            "/usr/local/lib/python3.7/dist-packages/sklearn/externals/six.py:31: FutureWarning: The module is deprecated in version 0.21 and will be removed in version 0.23 since we've dropped support for Python 2.7. Please rely on the official version of six (https://pypi.org/project/six/).\n",
            "  \"(https://pypi.org/project/six/).\", FutureWarning)\n",
            "/usr/local/lib/python3.7/dist-packages/sklearn/utils/deprecation.py:144: FutureWarning: The sklearn.neighbors.base module is  deprecated in version 0.22 and will be removed in version 0.24. The corresponding classes / functions should instead be imported from sklearn.neighbors. Anything that cannot be imported from sklearn.neighbors is now part of the private API.\n",
            "  warnings.warn(message, FutureWarning)\n"
          ]
        }
      ]
    },
    {
      "cell_type": "markdown",
      "metadata": {
        "id": "JI_yZNKv48Rk"
      },
      "source": [
        "# Problema\n",
        "\n",
        "* Cenário de transações bancárias\n",
        "* Muitos eventos de fraudes ocorrendo sem ação rápida para trativas\n",
        "\n",
        "![image.png](data:image/png;base64,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)\n",
        "\n",
        "# Objetivo\n",
        "\n",
        "* Ensinar a máquina para identificar fraude sem a necessidade de intervenção humana"
      ]
    },
    {
      "cell_type": "markdown",
      "metadata": {
        "id": "vY_rtZjM69S6"
      },
      "source": [
        "# Descrição da base\n",
        "\n",
        "- type -> CASH-IN (Depósito), CASH-OUT (Saque), DEBIT (Débito), PAYMENT (Pagamentos) e TRANSFER (Transferências)\n",
        "- amount -> Valor da transação financeira\n",
        "- nameOrig -> Cliente que iniciou a operação\n",
        "- oldbalanceOrg -> Balanço inicial antes da transação\n",
        "- newbalanceOrig -> Balanço atualizado após a transação\n",
        "- nameDest -> cliente que recebeu o valor da transação\n",
        "- oldbalanceDest -> Balanço inicial do cliente de destino que recebeu a transação\n",
        "- newbalanceDest  -> Balanço atualizado do cliente de destino após a transação\n",
        "- isFraud -> Marcação de qual transação é fraude\n",
        "- IsFlaggedFraud -> Marcação realizada por um processo de negócios qualquer\n"
      ]
    },
    {
      "cell_type": "markdown",
      "metadata": {
        "id": "lSI9xAW35hHY"
      },
      "source": [
        "# Leitura da base"
      ]
    },
    {
      "cell_type": "code",
      "metadata": {
        "colab": {
          "base_uri": "https://localhost:8080/"
        },
        "id": "IsYOiUyc5fpc",
        "outputId": "ecb171fa-4902-407d-d2b9-2a1287235e5d"
      },
      "source": [
        "drive.mount('/content/drive')"
      ],
      "execution_count": null,
      "outputs": [
        {
          "output_type": "stream",
          "name": "stdout",
          "text": [
            "Mounted at /content/drive\n"
          ]
        }
      ]
    },
    {
      "cell_type": "code",
      "metadata": {
        "id": "s5pg_8ua5wQv"
      },
      "source": [
        "df = pd.read_csv('/content/drive/My Drive/Datasets/Fraud.csv')"
      ],
      "execution_count": null,
      "outputs": []
    },
    {
      "cell_type": "code",
      "metadata": {
        "colab": {
          "base_uri": "https://localhost:8080/",
          "height": 224
        },
        "id": "rZNtAL9L6DZG",
        "outputId": "821dddb9-a465-4458-8bea-8c97c0c16d9d"
      },
      "source": [
        "df.head(5)"
      ],
      "execution_count": null,
      "outputs": [
        {
          "output_type": "execute_result",
          "data": {
            "text/html": [
              "<div>\n",
              "<style scoped>\n",
              "    .dataframe tbody tr th:only-of-type {\n",
              "        vertical-align: middle;\n",
              "    }\n",
              "\n",
              "    .dataframe tbody tr th {\n",
              "        vertical-align: top;\n",
              "    }\n",
              "\n",
              "    .dataframe thead th {\n",
              "        text-align: right;\n",
              "    }\n",
              "</style>\n",
              "<table border=\"1\" class=\"dataframe\">\n",
              "  <thead>\n",
              "    <tr style=\"text-align: right;\">\n",
              "      <th></th>\n",
              "      <th>step</th>\n",
              "      <th>type</th>\n",
              "      <th>amount</th>\n",
              "      <th>nameOrig</th>\n",
              "      <th>oldbalanceOrg</th>\n",
              "      <th>newbalanceOrig</th>\n",
              "      <th>nameDest</th>\n",
              "      <th>oldbalanceDest</th>\n",
              "      <th>newbalanceDest</th>\n",
              "      <th>isFraud</th>\n",
              "      <th>isFlaggedFraud</th>\n",
              "    </tr>\n",
              "  </thead>\n",
              "  <tbody>\n",
              "    <tr>\n",
              "      <th>0</th>\n",
              "      <td>1</td>\n",
              "      <td>PAYMENT</td>\n",
              "      <td>9839.64</td>\n",
              "      <td>C1231006815</td>\n",
              "      <td>170136.0</td>\n",
              "      <td>160296.36</td>\n",
              "      <td>M1979787155</td>\n",
              "      <td>0.0</td>\n",
              "      <td>0.0</td>\n",
              "      <td>0</td>\n",
              "      <td>0</td>\n",
              "    </tr>\n",
              "    <tr>\n",
              "      <th>1</th>\n",
              "      <td>1</td>\n",
              "      <td>PAYMENT</td>\n",
              "      <td>1864.28</td>\n",
              "      <td>C1666544295</td>\n",
              "      <td>21249.0</td>\n",
              "      <td>19384.72</td>\n",
              "      <td>M2044282225</td>\n",
              "      <td>0.0</td>\n",
              "      <td>0.0</td>\n",
              "      <td>0</td>\n",
              "      <td>0</td>\n",
              "    </tr>\n",
              "    <tr>\n",
              "      <th>2</th>\n",
              "      <td>1</td>\n",
              "      <td>TRANSFER</td>\n",
              "      <td>181.00</td>\n",
              "      <td>C1305486145</td>\n",
              "      <td>181.0</td>\n",
              "      <td>0.00</td>\n",
              "      <td>C553264065</td>\n",
              "      <td>0.0</td>\n",
              "      <td>0.0</td>\n",
              "      <td>1</td>\n",
              "      <td>0</td>\n",
              "    </tr>\n",
              "    <tr>\n",
              "      <th>3</th>\n",
              "      <td>1</td>\n",
              "      <td>CASH_OUT</td>\n",
              "      <td>181.00</td>\n",
              "      <td>C840083671</td>\n",
              "      <td>181.0</td>\n",
              "      <td>0.00</td>\n",
              "      <td>C38997010</td>\n",
              "      <td>21182.0</td>\n",
              "      <td>0.0</td>\n",
              "      <td>1</td>\n",
              "      <td>0</td>\n",
              "    </tr>\n",
              "    <tr>\n",
              "      <th>4</th>\n",
              "      <td>1</td>\n",
              "      <td>PAYMENT</td>\n",
              "      <td>11668.14</td>\n",
              "      <td>C2048537720</td>\n",
              "      <td>41554.0</td>\n",
              "      <td>29885.86</td>\n",
              "      <td>M1230701703</td>\n",
              "      <td>0.0</td>\n",
              "      <td>0.0</td>\n",
              "      <td>0</td>\n",
              "      <td>0</td>\n",
              "    </tr>\n",
              "  </tbody>\n",
              "</table>\n",
              "</div>"
            ],
            "text/plain": [
              "   step      type    amount  ... newbalanceDest  isFraud  isFlaggedFraud\n",
              "0     1   PAYMENT   9839.64  ...            0.0        0               0\n",
              "1     1   PAYMENT   1864.28  ...            0.0        0               0\n",
              "2     1  TRANSFER    181.00  ...            0.0        1               0\n",
              "3     1  CASH_OUT    181.00  ...            0.0        1               0\n",
              "4     1   PAYMENT  11668.14  ...            0.0        0               0\n",
              "\n",
              "[5 rows x 11 columns]"
            ]
          },
          "metadata": {},
          "execution_count": 4
        }
      ]
    },
    {
      "cell_type": "code",
      "metadata": {
        "colab": {
          "base_uri": "https://localhost:8080/"
        },
        "id": "OJM--hal7dlX",
        "outputId": "564a2a41-6490-420c-af6d-236d26716884"
      },
      "source": [
        "df.shape"
      ],
      "execution_count": null,
      "outputs": [
        {
          "output_type": "execute_result",
          "data": {
            "text/plain": [
              "(6362620, 11)"
            ]
          },
          "metadata": {},
          "execution_count": 5
        }
      ]
    },
    {
      "cell_type": "markdown",
      "metadata": {
        "id": "d0Inctbt7tP8"
      },
      "source": [
        "# Exploração"
      ]
    },
    {
      "cell_type": "code",
      "metadata": {
        "id": "Vj2F1CPm7vLi"
      },
      "source": [
        "# Definir numero casas decimais\n",
        "pd.set_option('float_format', '{:.2f}'.format)"
      ],
      "execution_count": null,
      "outputs": []
    },
    {
      "cell_type": "code",
      "metadata": {
        "colab": {
          "base_uri": "https://localhost:8080/",
          "height": 297
        },
        "id": "bq4mQ0r-8EA1",
        "outputId": "1ced6857-fb9d-4bd6-b237-63842b819369"
      },
      "source": [
        "# Estatisticas básicas\n",
        "df.describe()\n",
        "\n",
        "# 25% dos dados de transações estão abaixo de 13 mil\n",
        "# 50% dos dados estão abaixo de 74 mil\n",
        "# 75% dos dados estão abaixo 208 mil\n",
        "\n",
        "# Média de 179.861 reais em transações\n",
        "# Desvio padrão de 603 mil em transações\n",
        "# Altos indicios de outliers"
      ],
      "execution_count": null,
      "outputs": [
        {
          "output_type": "execute_result",
          "data": {
            "text/html": [
              "<div>\n",
              "<style scoped>\n",
              "    .dataframe tbody tr th:only-of-type {\n",
              "        vertical-align: middle;\n",
              "    }\n",
              "\n",
              "    .dataframe tbody tr th {\n",
              "        vertical-align: top;\n",
              "    }\n",
              "\n",
              "    .dataframe thead th {\n",
              "        text-align: right;\n",
              "    }\n",
              "</style>\n",
              "<table border=\"1\" class=\"dataframe\">\n",
              "  <thead>\n",
              "    <tr style=\"text-align: right;\">\n",
              "      <th></th>\n",
              "      <th>step</th>\n",
              "      <th>amount</th>\n",
              "      <th>oldbalanceOrg</th>\n",
              "      <th>newbalanceOrig</th>\n",
              "      <th>oldbalanceDest</th>\n",
              "      <th>newbalanceDest</th>\n",
              "      <th>isFraud</th>\n",
              "      <th>isFlaggedFraud</th>\n",
              "    </tr>\n",
              "  </thead>\n",
              "  <tbody>\n",
              "    <tr>\n",
              "      <th>count</th>\n",
              "      <td>6362620.00</td>\n",
              "      <td>6362620.00</td>\n",
              "      <td>6362620.00</td>\n",
              "      <td>6362620.00</td>\n",
              "      <td>6362620.00</td>\n",
              "      <td>6362620.00</td>\n",
              "      <td>6362620.00</td>\n",
              "      <td>6362620.00</td>\n",
              "    </tr>\n",
              "    <tr>\n",
              "      <th>mean</th>\n",
              "      <td>243.40</td>\n",
              "      <td>179861.90</td>\n",
              "      <td>833883.10</td>\n",
              "      <td>855113.67</td>\n",
              "      <td>1100701.67</td>\n",
              "      <td>1224996.40</td>\n",
              "      <td>0.00</td>\n",
              "      <td>0.00</td>\n",
              "    </tr>\n",
              "    <tr>\n",
              "      <th>std</th>\n",
              "      <td>142.33</td>\n",
              "      <td>603858.23</td>\n",
              "      <td>2888242.67</td>\n",
              "      <td>2924048.50</td>\n",
              "      <td>3399180.11</td>\n",
              "      <td>3674128.94</td>\n",
              "      <td>0.04</td>\n",
              "      <td>0.00</td>\n",
              "    </tr>\n",
              "    <tr>\n",
              "      <th>min</th>\n",
              "      <td>1.00</td>\n",
              "      <td>0.00</td>\n",
              "      <td>0.00</td>\n",
              "      <td>0.00</td>\n",
              "      <td>0.00</td>\n",
              "      <td>0.00</td>\n",
              "      <td>0.00</td>\n",
              "      <td>0.00</td>\n",
              "    </tr>\n",
              "    <tr>\n",
              "      <th>25%</th>\n",
              "      <td>156.00</td>\n",
              "      <td>13389.57</td>\n",
              "      <td>0.00</td>\n",
              "      <td>0.00</td>\n",
              "      <td>0.00</td>\n",
              "      <td>0.00</td>\n",
              "      <td>0.00</td>\n",
              "      <td>0.00</td>\n",
              "    </tr>\n",
              "    <tr>\n",
              "      <th>50%</th>\n",
              "      <td>239.00</td>\n",
              "      <td>74871.94</td>\n",
              "      <td>14208.00</td>\n",
              "      <td>0.00</td>\n",
              "      <td>132705.66</td>\n",
              "      <td>214661.44</td>\n",
              "      <td>0.00</td>\n",
              "      <td>0.00</td>\n",
              "    </tr>\n",
              "    <tr>\n",
              "      <th>75%</th>\n",
              "      <td>335.00</td>\n",
              "      <td>208721.48</td>\n",
              "      <td>107315.18</td>\n",
              "      <td>144258.41</td>\n",
              "      <td>943036.71</td>\n",
              "      <td>1111909.25</td>\n",
              "      <td>0.00</td>\n",
              "      <td>0.00</td>\n",
              "    </tr>\n",
              "    <tr>\n",
              "      <th>max</th>\n",
              "      <td>743.00</td>\n",
              "      <td>92445516.64</td>\n",
              "      <td>59585040.37</td>\n",
              "      <td>49585040.37</td>\n",
              "      <td>356015889.35</td>\n",
              "      <td>356179278.92</td>\n",
              "      <td>1.00</td>\n",
              "      <td>1.00</td>\n",
              "    </tr>\n",
              "  </tbody>\n",
              "</table>\n",
              "</div>"
            ],
            "text/plain": [
              "            step      amount  ...    isFraud  isFlaggedFraud\n",
              "count 6362620.00  6362620.00  ... 6362620.00      6362620.00\n",
              "mean      243.40   179861.90  ...       0.00            0.00\n",
              "std       142.33   603858.23  ...       0.04            0.00\n",
              "min         1.00        0.00  ...       0.00            0.00\n",
              "25%       156.00    13389.57  ...       0.00            0.00\n",
              "50%       239.00    74871.94  ...       0.00            0.00\n",
              "75%       335.00   208721.48  ...       0.00            0.00\n",
              "max       743.00 92445516.64  ...       1.00            1.00\n",
              "\n",
              "[8 rows x 8 columns]"
            ]
          },
          "metadata": {},
          "execution_count": 7
        }
      ]
    },
    {
      "cell_type": "code",
      "metadata": {
        "colab": {
          "base_uri": "https://localhost:8080/"
        },
        "id": "NFRa8Tq49TZ-",
        "outputId": "5de6ae19-2187-4534-a7b5-0f0e578133c9"
      },
      "source": [
        "# Verificar valores nulos\n",
        "df.isnull().sum()"
      ],
      "execution_count": null,
      "outputs": [
        {
          "output_type": "execute_result",
          "data": {
            "text/plain": [
              "step              0\n",
              "type              0\n",
              "amount            0\n",
              "nameOrig          0\n",
              "oldbalanceOrg     0\n",
              "newbalanceOrig    0\n",
              "nameDest          0\n",
              "oldbalanceDest    0\n",
              "newbalanceDest    0\n",
              "isFraud           0\n",
              "isFlaggedFraud    0\n",
              "dtype: int64"
            ]
          },
          "metadata": {},
          "execution_count": 8
        }
      ]
    },
    {
      "cell_type": "code",
      "metadata": {
        "colab": {
          "base_uri": "https://localhost:8080/"
        },
        "id": "Hjui3K1Z-Cq0",
        "outputId": "c4789a9e-958d-4007-e109-8fd5000bf18c"
      },
      "source": [
        "# Distribuição da Target\n",
        "df['isFraud'].value_counts()"
      ],
      "execution_count": null,
      "outputs": [
        {
          "output_type": "execute_result",
          "data": {
            "text/plain": [
              "0    6354407\n",
              "1       8213\n",
              "Name: isFraud, dtype: int64"
            ]
          },
          "metadata": {},
          "execution_count": 9
        }
      ]
    },
    {
      "cell_type": "code",
      "metadata": {
        "colab": {
          "base_uri": "https://localhost:8080/"
        },
        "id": "2IPXdxO9Cwow",
        "outputId": "09d86128-76fd-4282-c009-4854f4b96043"
      },
      "source": [
        "# Distribuição da Target de negócios\n",
        "df['isFlaggedFraud'].value_counts()"
      ],
      "execution_count": null,
      "outputs": [
        {
          "output_type": "execute_result",
          "data": {
            "text/plain": [
              "0    6362604\n",
              "1         16\n",
              "Name: isFlaggedFraud, dtype: int64"
            ]
          },
          "metadata": {},
          "execution_count": 10
        }
      ]
    },
    {
      "cell_type": "code",
      "metadata": {
        "id": "oJ2l3drE-sMz"
      },
      "source": [
        "# Realizando cópia do dataframe\n",
        "df_new = df.copy()"
      ],
      "execution_count": null,
      "outputs": []
    },
    {
      "cell_type": "code",
      "metadata": {
        "colab": {
          "base_uri": "https://localhost:8080/",
          "height": 224
        },
        "id": "LH0Z8LgA-1by",
        "outputId": "df21f0bd-0de5-432f-8292-d8d534d96915"
      },
      "source": [
        "# Cabeçalho do dataframe\n",
        "df_new.head(5)"
      ],
      "execution_count": null,
      "outputs": [
        {
          "output_type": "execute_result",
          "data": {
            "text/html": [
              "<div>\n",
              "<style scoped>\n",
              "    .dataframe tbody tr th:only-of-type {\n",
              "        vertical-align: middle;\n",
              "    }\n",
              "\n",
              "    .dataframe tbody tr th {\n",
              "        vertical-align: top;\n",
              "    }\n",
              "\n",
              "    .dataframe thead th {\n",
              "        text-align: right;\n",
              "    }\n",
              "</style>\n",
              "<table border=\"1\" class=\"dataframe\">\n",
              "  <thead>\n",
              "    <tr style=\"text-align: right;\">\n",
              "      <th></th>\n",
              "      <th>step</th>\n",
              "      <th>type</th>\n",
              "      <th>amount</th>\n",
              "      <th>nameOrig</th>\n",
              "      <th>oldbalanceOrg</th>\n",
              "      <th>newbalanceOrig</th>\n",
              "      <th>nameDest</th>\n",
              "      <th>oldbalanceDest</th>\n",
              "      <th>newbalanceDest</th>\n",
              "      <th>isFraud</th>\n",
              "      <th>isFlaggedFraud</th>\n",
              "    </tr>\n",
              "  </thead>\n",
              "  <tbody>\n",
              "    <tr>\n",
              "      <th>0</th>\n",
              "      <td>1</td>\n",
              "      <td>PAYMENT</td>\n",
              "      <td>9839.64</td>\n",
              "      <td>C1231006815</td>\n",
              "      <td>170136.00</td>\n",
              "      <td>160296.36</td>\n",
              "      <td>M1979787155</td>\n",
              "      <td>0.00</td>\n",
              "      <td>0.00</td>\n",
              "      <td>0</td>\n",
              "      <td>0</td>\n",
              "    </tr>\n",
              "    <tr>\n",
              "      <th>1</th>\n",
              "      <td>1</td>\n",
              "      <td>PAYMENT</td>\n",
              "      <td>1864.28</td>\n",
              "      <td>C1666544295</td>\n",
              "      <td>21249.00</td>\n",
              "      <td>19384.72</td>\n",
              "      <td>M2044282225</td>\n",
              "      <td>0.00</td>\n",
              "      <td>0.00</td>\n",
              "      <td>0</td>\n",
              "      <td>0</td>\n",
              "    </tr>\n",
              "    <tr>\n",
              "      <th>2</th>\n",
              "      <td>1</td>\n",
              "      <td>TRANSFER</td>\n",
              "      <td>181.00</td>\n",
              "      <td>C1305486145</td>\n",
              "      <td>181.00</td>\n",
              "      <td>0.00</td>\n",
              "      <td>C553264065</td>\n",
              "      <td>0.00</td>\n",
              "      <td>0.00</td>\n",
              "      <td>1</td>\n",
              "      <td>0</td>\n",
              "    </tr>\n",
              "    <tr>\n",
              "      <th>3</th>\n",
              "      <td>1</td>\n",
              "      <td>CASH_OUT</td>\n",
              "      <td>181.00</td>\n",
              "      <td>C840083671</td>\n",
              "      <td>181.00</td>\n",
              "      <td>0.00</td>\n",
              "      <td>C38997010</td>\n",
              "      <td>21182.00</td>\n",
              "      <td>0.00</td>\n",
              "      <td>1</td>\n",
              "      <td>0</td>\n",
              "    </tr>\n",
              "    <tr>\n",
              "      <th>4</th>\n",
              "      <td>1</td>\n",
              "      <td>PAYMENT</td>\n",
              "      <td>11668.14</td>\n",
              "      <td>C2048537720</td>\n",
              "      <td>41554.00</td>\n",
              "      <td>29885.86</td>\n",
              "      <td>M1230701703</td>\n",
              "      <td>0.00</td>\n",
              "      <td>0.00</td>\n",
              "      <td>0</td>\n",
              "      <td>0</td>\n",
              "    </tr>\n",
              "  </tbody>\n",
              "</table>\n",
              "</div>"
            ],
            "text/plain": [
              "   step      type   amount  ... newbalanceDest  isFraud  isFlaggedFraud\n",
              "0     1   PAYMENT  9839.64  ...           0.00        0               0\n",
              "1     1   PAYMENT  1864.28  ...           0.00        0               0\n",
              "2     1  TRANSFER   181.00  ...           0.00        1               0\n",
              "3     1  CASH_OUT   181.00  ...           0.00        1               0\n",
              "4     1   PAYMENT 11668.14  ...           0.00        0               0\n",
              "\n",
              "[5 rows x 11 columns]"
            ]
          },
          "metadata": {},
          "execution_count": 12
        }
      ]
    },
    {
      "cell_type": "code",
      "metadata": {
        "colab": {
          "base_uri": "https://localhost:8080/"
        },
        "id": "asBEwL9E-5vt",
        "outputId": "face02f5-46d7-48f1-de2d-6026e5ba519b"
      },
      "source": [
        "# Em que casos conseguimos identificar fraude? Quando isso acontece? Existe algum padrão no destino das operações?\n",
        "df_new['nameDest'].head()"
      ],
      "execution_count": null,
      "outputs": [
        {
          "output_type": "execute_result",
          "data": {
            "text/plain": [
              "0    M1979787155\n",
              "1    M2044282225\n",
              "2     C553264065\n",
              "3      C38997010\n",
              "4    M1230701703\n",
              "Name: nameDest, dtype: object"
            ]
          },
          "metadata": {},
          "execution_count": 13
        }
      ]
    },
    {
      "cell_type": "code",
      "metadata": {
        "id": "fTzp1RB0_Nzt"
      },
      "source": [
        "# Criando lógia para identificar pessoa física e empresa\n",
        "df_new['type1'] = ''\n",
        "\n",
        "df_new.loc[ df_new.nameOrig.str.contains('C') & df_new.nameDest.str.contains('C'), \"type1\"] = \"CC\" \n",
        "df_new.loc[ df_new.nameOrig.str.contains('C') & df_new.nameDest.str.contains('M'), \"type1\"] = \"CM\"\n",
        "df_new.loc[ df_new.nameOrig.str.contains('M') & df_new.nameDest.str.contains('C'), \"type1\"] = \"MC\"\n",
        "df_new.loc[ df_new.nameOrig.str.contains('M') & df_new.nameDest.str.contains('M'), \"type1\"] = \"MM\""
      ],
      "execution_count": null,
      "outputs": []
    },
    {
      "cell_type": "code",
      "metadata": {
        "colab": {
          "base_uri": "https://localhost:8080/",
          "height": 299
        },
        "id": "8BtOkmNjAAud",
        "outputId": "545d6bb5-5afe-4454-cbd3-e62606eb0b7c"
      },
      "source": [
        "df_new['type1'].value_counts().plot.bar()"
      ],
      "execution_count": null,
      "outputs": [
        {
          "output_type": "execute_result",
          "data": {
            "text/plain": [
              "<matplotlib.axes._subplots.AxesSubplot at 0x7f3209210650>"
            ]
          },
          "metadata": {},
          "execution_count": 15
        },
        {
          "output_type": "display_data",
          "data": {
            "image/png": "[encoded data removed]",
            "text/plain": [
              "<Figure size 432x288 with 1 Axes>"
            ]
          },
          "metadata": {
            "needs_background": "light"
          }
        }
      ]
    },
    {
      "cell_type": "code",
      "metadata": {
        "colab": {
          "base_uri": "https://localhost:8080/",
          "height": 286
        },
        "id": "R5_2vQJBAKff",
        "outputId": "e7814d3a-1375-4167-f16c-aca36e294588"
      },
      "source": [
        "# Tipo de conta que mais realiza fraude\n",
        "df_new[ df_new['isFraud'] == 1]['type1'].value_counts().plot.bar()"
      ],
      "execution_count": null,
      "outputs": [
        {
          "output_type": "execute_result",
          "data": {
            "text/plain": [
              "<matplotlib.axes._subplots.AxesSubplot at 0x7f3208a86f50>"
            ]
          },
          "metadata": {},
          "execution_count": 16
        },
        {
          "output_type": "display_data",
          "data": {
            "image/png": "[encoded data removed]",
            "text/plain": [
              "<Figure size 432x288 with 1 Axes>"
            ]
          },
          "metadata": {
            "needs_background": "light"
          }
        }
      ]
    },
    {
      "cell_type": "code",
      "metadata": {
        "colab": {
          "base_uri": "https://localhost:8080/",
          "height": 299
        },
        "id": "74HemL3HBQSg",
        "outputId": "effd214e-3574-4639-e4b6-757801a5e5fe"
      },
      "source": [
        "# Tipo de conta que não realiza fraude\n",
        "df_new[ df_new['isFraud'] == 0]['type1'].value_counts().plot.bar()"
      ],
      "execution_count": null,
      "outputs": [
        {
          "output_type": "execute_result",
          "data": {
            "text/plain": [
              "<matplotlib.axes._subplots.AxesSubplot at 0x7f320820c8d0>"
            ]
          },
          "metadata": {},
          "execution_count": 17
        },
        {
          "output_type": "display_data",
          "data": {
            "image/png": "[encoded data removed]",
            "text/plain": [
              "<Figure size 432x288 with 1 Axes>"
            ]
          },
          "metadata": {
            "needs_background": "light"
          }
        }
      ]
    },
    {
      "cell_type": "code",
      "metadata": {
        "colab": {
          "base_uri": "https://localhost:8080/",
          "height": 326
        },
        "id": "pTK9r6B-CDsW",
        "outputId": "40d3b2bb-4451-4150-9b8b-95576f396f5d"
      },
      "source": [
        "# Em quais tipos de transações ocorrem fraudes?\n",
        "df_new[df_new['isFraud'] == 1]['type'].value_counts().plot.bar()"
      ],
      "execution_count": null,
      "outputs": [
        {
          "output_type": "execute_result",
          "data": {
            "text/plain": [
              "<matplotlib.axes._subplots.AxesSubplot at 0x7f320818eb10>"
            ]
          },
          "metadata": {},
          "execution_count": 18
        },
        {
          "output_type": "display_data",
          "data": {
            "image/png": "[encoded data removed]",
            "text/plain": [
              "<Figure size 432x288 with 1 Axes>"
            ]
          },
          "metadata": {
            "needs_background": "light"
          }
        }
      ]
    },
    {
      "cell_type": "code",
      "metadata": {
        "colab": {
          "base_uri": "https://localhost:8080/",
          "height": 337
        },
        "id": "F2CXeUKKChNz",
        "outputId": "4b4b2dc9-c14f-4ba6-e1ff-79e19c885511"
      },
      "source": [
        "# Em quais tipos de transação não ocorre fraude\n",
        "df_new[df_new['isFraud'] == 0]['type'].value_counts().plot.bar()"
      ],
      "execution_count": null,
      "outputs": [
        {
          "output_type": "execute_result",
          "data": {
            "text/plain": [
              "<matplotlib.axes._subplots.AxesSubplot at 0x7f3208100bd0>"
            ]
          },
          "metadata": {},
          "execution_count": 19
        },
        {
          "output_type": "display_data",
          "data": {
            "image/png": "[encoded data removed]",
            "text/plain": [
              "<Figure size 432x288 with 1 Axes>"
            ]
          },
          "metadata": {
            "needs_background": "light"
          }
        }
      ]
    },
    {
      "cell_type": "code",
      "metadata": {
        "colab": {
          "base_uri": "https://localhost:8080/"
        },
        "id": "cYqJU6S9DiqS",
        "outputId": "fb360a04-3ac3-4116-8912-b50a9b5d57de"
      },
      "source": [
        "# Será que o cara que realiza fraude sempre utiliza a mesma conta?\n",
        "max(df_new[ df_new['isFraud'] == 1]['nameOrig'].value_counts())"
      ],
      "execution_count": null,
      "outputs": [
        {
          "output_type": "execute_result",
          "data": {
            "text/plain": [
              "1"
            ]
          },
          "metadata": {},
          "execution_count": 20
        }
      ]
    },
    {
      "cell_type": "code",
      "metadata": {
        "colab": {
          "base_uri": "https://localhost:8080/"
        },
        "id": "sTn5vMpeEU-W",
        "outputId": "58614f6d-a03b-4ca5-f49c-1b5c7f514816"
      },
      "source": [
        "# Será que o cara que recebe a fraude sempre utiliza a mesma conta?\n",
        "max(df_new[ df_new['isFraud'] == 1]['nameDest'].value_counts())"
      ],
      "execution_count": null,
      "outputs": [
        {
          "output_type": "execute_result",
          "data": {
            "text/plain": [
              "2"
            ]
          },
          "metadata": {},
          "execution_count": 21
        }
      ]
    },
    {
      "cell_type": "code",
      "metadata": {
        "colab": {
          "base_uri": "https://localhost:8080/"
        },
        "id": "MJ0Ttt77EeFS",
        "outputId": "36cd2a27-bd17-4c22-999b-bdc73068644e"
      },
      "source": [
        "# Qual o valor antigo do balanço do destino que mais repete quando eu tenho fraude\n",
        "df_new[ df_new['isFraud'] == 1  ]['oldbalanceDest'].mode()"
      ],
      "execution_count": null,
      "outputs": [
        {
          "output_type": "execute_result",
          "data": {
            "text/plain": [
              "0   0.00\n",
              "dtype: float64"
            ]
          },
          "metadata": {},
          "execution_count": 22
        }
      ]
    },
    {
      "cell_type": "markdown",
      "metadata": {
        "id": "JZaPpOGa2ZkH"
      },
      "source": [
        "- Citar análise bivariada como possível alternativa (Não vai dar tempo de falar no curso)"
      ]
    },
    {
      "cell_type": "markdown",
      "metadata": {
        "id": "NCZIcajKIB4j"
      },
      "source": [
        "# Preparar os dados para rodar modelos"
      ]
    },
    {
      "cell_type": "code",
      "metadata": {
        "id": "2fecBmO_I_vK"
      },
      "source": [
        "df_new = df_new.drop(['nameOrig', 'nameDest', 'type1', 'step', 'isFlaggedFraud'], axis = 1)"
      ],
      "execution_count": null,
      "outputs": []
    },
    {
      "cell_type": "code",
      "metadata": {
        "colab": {
          "base_uri": "https://localhost:8080/",
          "height": 204
        },
        "id": "vRh2bgWvJTYb",
        "outputId": "23d4f565-aa14-4d2b-924d-f0afb060b794"
      },
      "source": [
        "df_new.head()"
      ],
      "execution_count": null,
      "outputs": [
        {
          "output_type": "execute_result",
          "data": {
            "text/html": [
              "<div>\n",
              "<style scoped>\n",
              "    .dataframe tbody tr th:only-of-type {\n",
              "        vertical-align: middle;\n",
              "    }\n",
              "\n",
              "    .dataframe tbody tr th {\n",
              "        vertical-align: top;\n",
              "    }\n",
              "\n",
              "    .dataframe thead th {\n",
              "        text-align: right;\n",
              "    }\n",
              "</style>\n",
              "<table border=\"1\" class=\"dataframe\">\n",
              "  <thead>\n",
              "    <tr style=\"text-align: right;\">\n",
              "      <th></th>\n",
              "      <th>type</th>\n",
              "      <th>amount</th>\n",
              "      <th>oldbalanceOrg</th>\n",
              "      <th>newbalanceOrig</th>\n",
              "      <th>oldbalanceDest</th>\n",
              "      <th>newbalanceDest</th>\n",
              "      <th>isFraud</th>\n",
              "    </tr>\n",
              "  </thead>\n",
              "  <tbody>\n",
              "    <tr>\n",
              "      <th>0</th>\n",
              "      <td>PAYMENT</td>\n",
              "      <td>9839.64</td>\n",
              "      <td>170136.00</td>\n",
              "      <td>160296.36</td>\n",
              "      <td>0.00</td>\n",
              "      <td>0.00</td>\n",
              "      <td>0</td>\n",
              "    </tr>\n",
              "    <tr>\n",
              "      <th>1</th>\n",
              "      <td>PAYMENT</td>\n",
              "      <td>1864.28</td>\n",
              "      <td>21249.00</td>\n",
              "      <td>19384.72</td>\n",
              "      <td>0.00</td>\n",
              "      <td>0.00</td>\n",
              "      <td>0</td>\n",
              "    </tr>\n",
              "    <tr>\n",
              "      <th>2</th>\n",
              "      <td>TRANSFER</td>\n",
              "      <td>181.00</td>\n",
              "      <td>181.00</td>\n",
              "      <td>0.00</td>\n",
              "      <td>0.00</td>\n",
              "      <td>0.00</td>\n",
              "      <td>1</td>\n",
              "    </tr>\n",
              "    <tr>\n",
              "      <th>3</th>\n",
              "      <td>CASH_OUT</td>\n",
              "      <td>181.00</td>\n",
              "      <td>181.00</td>\n",
              "      <td>0.00</td>\n",
              "      <td>21182.00</td>\n",
              "      <td>0.00</td>\n",
              "      <td>1</td>\n",
              "    </tr>\n",
              "    <tr>\n",
              "      <th>4</th>\n",
              "      <td>PAYMENT</td>\n",
              "      <td>11668.14</td>\n",
              "      <td>41554.00</td>\n",
              "      <td>29885.86</td>\n",
              "      <td>0.00</td>\n",
              "      <td>0.00</td>\n",
              "      <td>0</td>\n",
              "    </tr>\n",
              "  </tbody>\n",
              "</table>\n",
              "</div>"
            ],
            "text/plain": [
              "       type   amount  oldbalanceOrg  ...  oldbalanceDest  newbalanceDest  isFraud\n",
              "0   PAYMENT  9839.64      170136.00  ...            0.00            0.00        0\n",
              "1   PAYMENT  1864.28       21249.00  ...            0.00            0.00        0\n",
              "2  TRANSFER   181.00         181.00  ...            0.00            0.00        1\n",
              "3  CASH_OUT   181.00         181.00  ...        21182.00            0.00        1\n",
              "4   PAYMENT 11668.14       41554.00  ...            0.00            0.00        0\n",
              "\n",
              "[5 rows x 7 columns]"
            ]
          },
          "metadata": {},
          "execution_count": 24
        }
      ]
    },
    {
      "cell_type": "markdown",
      "metadata": {
        "id": "rLeBoKZe-z5s"
      },
      "source": [
        "## Iniciando abordagem do modelo supervisionado"
      ]
    },
    {
      "cell_type": "code",
      "metadata": {
        "id": "64A1PbNVKa-y"
      },
      "source": [
        "# Variaveis independentes (Variáveis que vão tentar realizar a explicação)\n",
        "X = df_new[ [i for i in df_new.columns if i != 'isFraud'] ]"
      ],
      "execution_count": null,
      "outputs": []
    },
    {
      "cell_type": "code",
      "metadata": {
        "id": "nHYKfvM-Kt4u"
      },
      "source": [
        "# Variável dependente (Variável Alvo)\n",
        "y = df_new['isFraud']"
      ],
      "execution_count": null,
      "outputs": []
    },
    {
      "cell_type": "markdown",
      "metadata": {
        "id": "FVC_UUe-0SDH"
      },
      "source": [
        "# Criando Pipelines"
      ]
    },
    {
      "cell_type": "code",
      "metadata": {
        "id": "cQwBfJpj0Vwd"
      },
      "source": [
        "# Pipeline para aplicar undersample\n",
        "undersample_transformer = pipe_imb(steps=[\n",
        "        ('UndersampleTransformer', RandomUnderSampler())\n",
        "        ])\n",
        "\n",
        "\n",
        "# Capturando variáveis numéricas\n",
        "numerics = ['int16', 'int32', 'int64', 'float16', 'float32', 'float64']\n",
        "numeric_features = [i for i in X.select_dtypes(include=numerics) if i != 'type']\n",
        "\n",
        "# Pipeline para variáveis numéricas\n",
        "numeric_transformer = Pipeline(steps=[\n",
        "        ('MinMaxScaler', MinMaxScaler())\n",
        "        ])\n",
        "\n",
        "# Capturando variáveis categóricas\n",
        "categorical_features = ['type']\n",
        "\n",
        "# Pipeline para variáveis categóricas\n",
        "categorical_transformer = Pipeline(steps=[\n",
        "    ('one_hot', OneHotEncoder(handle_unknown = \"ignore\"))\n",
        "])\n",
        "\n",
        "\n",
        "# Concatenando pipelines\n",
        "preprocessor = ColumnTransformer(\n",
        "    transformers=[\n",
        "        ('categorical', categorical_transformer, categorical_features),\n",
        "        ('num', numeric_transformer, numeric_features)\n",
        "    ])\n",
        "\n",
        "\n",
        "# Algoritmos escolhidos\n",
        "algorithms = [tree.DecisionTreeClassifier(), \n",
        "              sklearn.ensemble.GradientBoostingClassifier(), \n",
        "              sklearn.ensemble.RandomForestClassifier()]"
      ],
      "execution_count": null,
      "outputs": []
    },
    {
      "cell_type": "markdown",
      "metadata": {
        "id": "UNkMcm9k2dOX"
      },
      "source": [
        "# Aplicando UnderSample e dividindo em treino e teste"
      ]
    },
    {
      "cell_type": "code",
      "metadata": {
        "colab": {
          "base_uri": "https://localhost:8080/"
        },
        "id": "r4bGG8W_wBLZ",
        "outputId": "c7595c63-45aa-48d1-f2eb-89ae10f01516"
      },
      "source": [
        "# Aplicando undersample\n",
        "X_resampled, y_resampled = undersample_transformer.fit_resample(X,y)\n",
        "# Transformando em dataframe\n",
        "X_resampled_renamed = pd.DataFrame(X_resampled, columns=X.columns)\n",
        "# Separando em treino e teste\n",
        "X_train, X_test, y_train, y_test = train_test_split(X_resampled_renamed, y_resampled, test_size=0.30)"
      ],
      "execution_count": null,
      "outputs": [
        {
          "output_type": "stream",
          "name": "stderr",
          "text": [
            "/usr/local/lib/python3.7/dist-packages/sklearn/utils/deprecation.py:87: FutureWarning: Function safe_indexing is deprecated; safe_indexing is deprecated in version 0.22 and will be removed in version 0.24.\n",
            "  warnings.warn(msg, category=FutureWarning)\n"
          ]
        }
      ]
    },
    {
      "cell_type": "markdown",
      "metadata": {
        "id": "o0TaFZcW2gLF"
      },
      "source": [
        "# Aplicando pipeline"
      ]
    },
    {
      "cell_type": "code",
      "metadata": {
        "colab": {
          "base_uri": "https://localhost:8080/"
        },
        "id": "c5-QJHik-qzo",
        "outputId": "8c18b131-fd40-45db-d833-fd6d581e0eb7"
      },
      "source": [
        "%%time\n",
        "# Pipeline final\n",
        "modelos = {}\n",
        "for alg in algorithms:\n",
        "  # Criando passo a passo\n",
        "  setps_ = [('preprocessor', preprocessor), ('models', alg)]\n",
        "  # Criando pipeline\n",
        "  model = Pipeline(steps=setps_)\n",
        "  # Treinando o modelo\n",
        "  model.fit(X_train, y_train)\n",
        "  # Testando o modelo\n",
        "  y_pred = model.predict(X_test)\n",
        "  # Armazenando resultados\n",
        "  modelos[alg.__class__.__name__] = {}\n",
        "  modelos[alg.__class__.__name__]['ROC'] = roc_auc_score(y_test, y_pred)\n",
        "  modelos[alg.__class__.__name__]['PRECISAO'] = precision_score(y_test, y_pred)\n",
        "  modelos[alg.__class__.__name__]['RECALL'] = recall_score(y_test, y_pred)\n",
        "  modelos[alg.__class__.__name__]['F1_SCORE'] = f1_score(y_test, y_pred)\n",
        "  modelos[alg.__class__.__name__]['MATRIZ_CONFUSAO'] = confusion_matrix(y_test, y_pred)"
      ],
      "execution_count": null,
      "outputs": [
        {
          "output_type": "stream",
          "name": "stdout",
          "text": [
            "CPU times: user 3.67 s, sys: 21.9 ms, total: 3.69 s\n",
            "Wall time: 3.71 s\n"
          ]
        }
      ]
    },
    {
      "cell_type": "markdown",
      "metadata": {
        "id": "TizoUvRu2iUR"
      },
      "source": [
        "# Avaliando Resultados\n",
        "\n",
        "\n",
        "- Entendendo a matriz de confusão"
      ]
    },
    {
      "cell_type": "markdown",
      "metadata": {
        "id": "rLwoA6GR41LZ"
      },
      "source": [
        "![image.png](data:image/png;base64,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)"
      ]
    },
    {
      "cell_type": "markdown",
      "metadata": {
        "id": "khK1cL6p59Ge"
      },
      "source": [
        "![image.png](data:image/png;base64,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)"
      ]
    },
    {
      "cell_type": "code",
      "metadata": {
        "colab": {
          "base_uri": "https://localhost:8080/",
          "height": 499
        },
        "id": "zPLAElSg2GVh",
        "outputId": "7f819b2e-e785-4166-f511-0e64bb70e082"
      },
      "source": [
        "cmap = sns.cubehelix_palette(light=1, as_cmap=True)\n",
        "\n",
        "fig, axs = plt.subplots(nrows=len(algorithms), figsize=(8,8))\n",
        "\n",
        "for indice, alg in enumerate(algorithms):\n",
        "  sns.heatmap(modelos[alg.__class__.__name__]['MATRIZ_CONFUSAO'], annot=True, vmin=0.0, vmax=100.0, fmt='.0f', cmap=cmap, ax = axs[indice])\n",
        "  axs[indice].set_title(f'{alg.__class__.__name__} -- Precisao -> {modelos[alg.__class__.__name__][\"PRECISAO\"]} Recall -> {modelos[alg.__class__.__name__][\"RECALL\"]}')"
      ],
      "execution_count": null,
      "outputs": [
        {
          "output_type": "display_data",
          "data": {
            "image/png": "[encoded data removed]",
            "text/plain": [
              "<Figure size 576x576 with 6 Axes>"
            ]
          },
          "metadata": {
            "needs_background": "light"
          }
        }
      ]
    },
    {
      "cell_type": "markdown",
      "metadata": {
        "id": "jKOzNYPs1cjt"
      },
      "source": [
        "## Overfitting e Underfitting\n",
        "\n",
        "\n",
        "![image.png](data:image/png;base64,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)\n"
      ]
    }
  ]
}